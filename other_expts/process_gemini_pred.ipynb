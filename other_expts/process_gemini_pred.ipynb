{
 "cells": [
  {
   "cell_type": "code",
   "execution_count": 1,
   "metadata": {},
   "outputs": [],
   "source": [
    "#loade gemini_pred.csv\n",
    "\n",
    "import pandas as pd\n",
    "import numpy as np\n",
    "\n",
    "df = pd.read_csv(\"gemini_pred.csv\", sep=\",\")\n",
    "    "
   ]
  },
  {
   "cell_type": "code",
   "execution_count": 2,
   "metadata": {},
   "outputs": [
    {
     "data": {
      "text/html": [
       "<div>\n",
       "<style scoped>\n",
       "    .dataframe tbody tr th:only-of-type {\n",
       "        vertical-align: middle;\n",
       "    }\n",
       "\n",
       "    .dataframe tbody tr th {\n",
       "        vertical-align: top;\n",
       "    }\n",
       "\n",
       "    .dataframe thead th {\n",
       "        text-align: right;\n",
       "    }\n",
       "</style>\n",
       "<table border=\"1\" class=\"dataframe\">\n",
       "  <thead>\n",
       "    <tr style=\"text-align: right;\">\n",
       "      <th></th>\n",
       "      <th>video_id</th>\n",
       "      <th>question</th>\n",
       "      <th>true answer</th>\n",
       "      <th>text answer</th>\n",
       "      <th>prediction</th>\n",
       "      <th>correct</th>\n",
       "    </tr>\n",
       "  </thead>\n",
       "  <tbody>\n",
       "    <tr>\n",
       "      <th>0</th>\n",
       "      <td>0074f737-11cb-497d-8d07-77c3a8127391</td>\n",
       "      <td>{'question': 'Taking into account all the acti...</td>\n",
       "      <td>3</td>\n",
       "      <td>The primary objective and focus within the vi...</td>\n",
       "      <td>3</td>\n",
       "      <td>True</td>\n",
       "    </tr>\n",
       "    <tr>\n",
       "      <th>1</th>\n",
       "      <td>00b9a0de-c59e-49cb-a127-6081e2fb8c8e</td>\n",
       "      <td>{'question': 'What was the primary purpose of ...</td>\n",
       "      <td>4</td>\n",
       "      <td>The primary purpose of the cup of water in th...</td>\n",
       "      <td>0</td>\n",
       "      <td>False</td>\n",
       "    </tr>\n",
       "    <tr>\n",
       "      <th>2</th>\n",
       "      <td>00f93e1e-cf4e-4835-88b4-4ad68216e86f</td>\n",
       "      <td>{'question': 'What is the overarching theme of...</td>\n",
       "      <td>1</td>\n",
       "      <td>The video shows two people playing a board ga...</td>\n",
       "      <td>0</td>\n",
       "      <td>False</td>\n",
       "    </tr>\n",
       "    <tr>\n",
       "      <th>3</th>\n",
       "      <td>00faf954-74f7-4aa3-8b29-4a5dff4f9518</td>\n",
       "      <td>{'question': 'What is the primary sequence of ...</td>\n",
       "      <td>4</td>\n",
       "      <td>The answer is \"Option 1\". \\n\\nThe video shows...</td>\n",
       "      <td>1</td>\n",
       "      <td>False</td>\n",
       "    </tr>\n",
       "    <tr>\n",
       "      <th>4</th>\n",
       "      <td>011b8b73-0ce4-4843-95ef-33b79610d212</td>\n",
       "      <td>{'question': \"What can be deduced about c's le...</td>\n",
       "      <td>3</td>\n",
       "      <td>C made several adjustments throughout the vid...</td>\n",
       "      <td>0</td>\n",
       "      <td>False</td>\n",
       "    </tr>\n",
       "  </tbody>\n",
       "</table>\n",
       "</div>"
      ],
      "text/plain": [
       "                               video_id  \\\n",
       "0  0074f737-11cb-497d-8d07-77c3a8127391   \n",
       "1  00b9a0de-c59e-49cb-a127-6081e2fb8c8e   \n",
       "2  00f93e1e-cf4e-4835-88b4-4ad68216e86f   \n",
       "3  00faf954-74f7-4aa3-8b29-4a5dff4f9518   \n",
       "4  011b8b73-0ce4-4843-95ef-33b79610d212   \n",
       "\n",
       "                                            question  true answer  \\\n",
       "0  {'question': 'Taking into account all the acti...            3   \n",
       "1  {'question': 'What was the primary purpose of ...            4   \n",
       "2  {'question': 'What is the overarching theme of...            1   \n",
       "3  {'question': 'What is the primary sequence of ...            4   \n",
       "4  {'question': \"What can be deduced about c's le...            3   \n",
       "\n",
       "                                         text answer  prediction  correct  \n",
       "0   The primary objective and focus within the vi...           3     True  \n",
       "1   The primary purpose of the cup of water in th...           0    False  \n",
       "2   The video shows two people playing a board ga...           0    False  \n",
       "3   The answer is \"Option 1\". \\n\\nThe video shows...           1    False  \n",
       "4   C made several adjustments throughout the vid...           0    False  "
      ]
     },
     "execution_count": 2,
     "metadata": {},
     "output_type": "execute_result"
    }
   ],
   "source": [
    "df.head()"
   ]
  },
  {
   "cell_type": "code",
   "execution_count": 3,
   "metadata": {},
   "outputs": [
    {
     "data": {
      "text/html": [
       "<div>\n",
       "<style scoped>\n",
       "    .dataframe tbody tr th:only-of-type {\n",
       "        vertical-align: middle;\n",
       "    }\n",
       "\n",
       "    .dataframe tbody tr th {\n",
       "        vertical-align: top;\n",
       "    }\n",
       "\n",
       "    .dataframe thead th {\n",
       "        text-align: right;\n",
       "    }\n",
       "</style>\n",
       "<table border=\"1\" class=\"dataframe\">\n",
       "  <thead>\n",
       "    <tr style=\"text-align: right;\">\n",
       "      <th>speed_category</th>\n",
       "      <th>10x_speed</th>\n",
       "      <th>4x_speed</th>\n",
       "      <th>normal</th>\n",
       "    </tr>\n",
       "    <tr>\n",
       "      <th>aligned_video_id</th>\n",
       "      <th></th>\n",
       "      <th></th>\n",
       "      <th></th>\n",
       "    </tr>\n",
       "  </thead>\n",
       "  <tbody>\n",
       "    <tr>\n",
       "      <th>0074f737-11cb-497d-8d07-77c3a8127391</th>\n",
       "      <td>3.0</td>\n",
       "      <td>3.0</td>\n",
       "      <td>3.0</td>\n",
       "    </tr>\n",
       "    <tr>\n",
       "      <th>00b9a0de-c59e-49cb-a127-6081e2fb8c8e</th>\n",
       "      <td>0.0</td>\n",
       "      <td>0.0</td>\n",
       "      <td>0.0</td>\n",
       "    </tr>\n",
       "    <tr>\n",
       "      <th>00f93e1e-cf4e-4835-88b4-4ad68216e86f</th>\n",
       "      <td>0.0</td>\n",
       "      <td>0.0</td>\n",
       "      <td>0.0</td>\n",
       "    </tr>\n",
       "    <tr>\n",
       "      <th>00faf954-74f7-4aa3-8b29-4a5dff4f9518</th>\n",
       "      <td>1.0</td>\n",
       "      <td>1.0</td>\n",
       "      <td>1.0</td>\n",
       "    </tr>\n",
       "    <tr>\n",
       "      <th>011b8b73-0ce4-4843-95ef-33b79610d212</th>\n",
       "      <td>0.0</td>\n",
       "      <td>0.0</td>\n",
       "      <td>0.0</td>\n",
       "    </tr>\n",
       "  </tbody>\n",
       "</table>\n",
       "</div>"
      ],
      "text/plain": [
       "speed_category                        10x_speed  4x_speed  normal\n",
       "aligned_video_id                                                 \n",
       "0074f737-11cb-497d-8d07-77c3a8127391        3.0       3.0     3.0\n",
       "00b9a0de-c59e-49cb-a127-6081e2fb8c8e        0.0       0.0     0.0\n",
       "00f93e1e-cf4e-4835-88b4-4ad68216e86f        0.0       0.0     0.0\n",
       "00faf954-74f7-4aa3-8b29-4a5dff4f9518        1.0       1.0     1.0\n",
       "011b8b73-0ce4-4843-95ef-33b79610d212        0.0       0.0     0.0"
      ]
     },
     "execution_count": 3,
     "metadata": {},
     "output_type": "execute_result"
    }
   ],
   "source": [
    "# Correcting the pivoting process\n",
    "# We will create a new column to differentiate between normal, 4x, and 10x speeds based on the video_id\n",
    "def categorize_video_speed(video_id):\n",
    "    if '4x' in video_id:\n",
    "        return '4x_speed'\n",
    "    elif '10x' in video_id:\n",
    "        return '10x_speed'\n",
    "    else:\n",
    "        return 'normal'\n",
    "\n",
    "# Applying the categorization\n",
    "df['speed_category'] = df['video_id'].apply(categorize_video_speed)\n",
    "\n",
    "# First, we'll modify the video IDs to align them by removing the speed-up prefixes\n",
    "df['aligned_video_id'] = df['video_id'].str.replace('sped_up_4x_', '').str.replace('sped_up_10x_', '')\n",
    "\n",
    "# Now, we'll pivot the table to align the predictions for each video across different speeds\n",
    "pivoted_data = df.pivot(index='aligned_video_id', columns='speed_category', values='prediction')\n",
    "\n",
    "pivoted_data.head()"
   ]
  },
  {
   "cell_type": "code",
   "execution_count": 4,
   "metadata": {},
   "outputs": [],
   "source": [
    "# drop the row with nan vales from pivoted_data\n",
    "pivoted_data = pivoted_data.dropna()"
   ]
  },
  {
   "cell_type": "code",
   "execution_count": 5,
   "metadata": {},
   "outputs": [
    {
     "name": "stdout",
     "output_type": "stream",
     "text": [
      "Number of videos with the same prediction in normal and 4x speed up: 73\n",
      "Number of videos with the same prediction in normal and 10x speed up: 78\n"
     ]
    }
   ],
   "source": [
    "# Counting how many videos have the same prediction in no_speed_up and 4x speed up\n",
    "same_prediction_normal_4x = (pivoted_data['normal'] == pivoted_data['4x_speed']).sum()\n",
    "same_prediction_normal_10x = (pivoted_data['normal'] == pivoted_data['10x_speed']).sum()\n",
    "\n",
    "print(\"Number of videos with the same prediction in normal and 4x speed up: {}\".format(same_prediction_normal_4x))\n",
    "print(\"Number of videos with the same prediction in normal and 10x speed up: {}\".format(same_prediction_normal_10x))"
   ]
  },
  {
   "cell_type": "code",
   "execution_count": 6,
   "metadata": {},
   "outputs": [
    {
     "data": {
      "text/html": [
       "<div>\n",
       "<style scoped>\n",
       "    .dataframe tbody tr th:only-of-type {\n",
       "        vertical-align: middle;\n",
       "    }\n",
       "\n",
       "    .dataframe tbody tr th {\n",
       "        vertical-align: top;\n",
       "    }\n",
       "\n",
       "    .dataframe thead th {\n",
       "        text-align: right;\n",
       "    }\n",
       "</style>\n",
       "<table border=\"1\" class=\"dataframe\">\n",
       "  <thead>\n",
       "    <tr style=\"text-align: right;\">\n",
       "      <th></th>\n",
       "      <th>10x_speed</th>\n",
       "      <th>4x_speed</th>\n",
       "      <th>normal</th>\n",
       "      <th>true answer</th>\n",
       "    </tr>\n",
       "    <tr>\n",
       "      <th>aligned_video_id</th>\n",
       "      <th></th>\n",
       "      <th></th>\n",
       "      <th></th>\n",
       "      <th></th>\n",
       "    </tr>\n",
       "  </thead>\n",
       "  <tbody>\n",
       "    <tr>\n",
       "      <th>0074f737-11cb-497d-8d07-77c3a8127391</th>\n",
       "      <td>3.0</td>\n",
       "      <td>3.0</td>\n",
       "      <td>3.0</td>\n",
       "      <td>3</td>\n",
       "    </tr>\n",
       "    <tr>\n",
       "      <th>00b9a0de-c59e-49cb-a127-6081e2fb8c8e</th>\n",
       "      <td>0.0</td>\n",
       "      <td>0.0</td>\n",
       "      <td>0.0</td>\n",
       "      <td>4</td>\n",
       "    </tr>\n",
       "    <tr>\n",
       "      <th>00f93e1e-cf4e-4835-88b4-4ad68216e86f</th>\n",
       "      <td>0.0</td>\n",
       "      <td>0.0</td>\n",
       "      <td>0.0</td>\n",
       "      <td>1</td>\n",
       "    </tr>\n",
       "    <tr>\n",
       "      <th>00faf954-74f7-4aa3-8b29-4a5dff4f9518</th>\n",
       "      <td>1.0</td>\n",
       "      <td>1.0</td>\n",
       "      <td>1.0</td>\n",
       "      <td>4</td>\n",
       "    </tr>\n",
       "    <tr>\n",
       "      <th>011b8b73-0ce4-4843-95ef-33b79610d212</th>\n",
       "      <td>0.0</td>\n",
       "      <td>0.0</td>\n",
       "      <td>0.0</td>\n",
       "      <td>3</td>\n",
       "    </tr>\n",
       "  </tbody>\n",
       "</table>\n",
       "</div>"
      ],
      "text/plain": [
       "                                      10x_speed  4x_speed  normal  true answer\n",
       "aligned_video_id                                                              \n",
       "0074f737-11cb-497d-8d07-77c3a8127391        3.0       3.0     3.0            3\n",
       "00b9a0de-c59e-49cb-a127-6081e2fb8c8e        0.0       0.0     0.0            4\n",
       "00f93e1e-cf4e-4835-88b4-4ad68216e86f        0.0       0.0     0.0            1\n",
       "00faf954-74f7-4aa3-8b29-4a5dff4f9518        1.0       1.0     1.0            4\n",
       "011b8b73-0ce4-4843-95ef-33b79610d212        0.0       0.0     0.0            3"
      ]
     },
     "execution_count": 6,
     "metadata": {},
     "output_type": "execute_result"
    }
   ],
   "source": [
    "ground_truth = df.groupby('aligned_video_id')['true answer'].first()\n",
    "pivoted_data = pivoted_data.join(ground_truth)\n",
    "pivoted_data.head()"
   ]
  },
  {
   "cell_type": "code",
   "execution_count": 8,
   "metadata": {},
   "outputs": [],
   "source": [
    "from scipy import stats\n",
    "\n",
    "# Re-defining the function to calculate the 95% confidence interval for proportion\n",
    "def calculate_proportion_confidence_interval(correct, total):\n",
    "    \"\"\" Calculate the 95% confidence interval for a proportion. \"\"\"\n",
    "    proportion = correct / total\n",
    "    se = np.sqrt(proportion * (1 - proportion) / total)  # Standard error\n",
    "    ci = se * stats.t.ppf((1 + 0.95) / 2., total-1)  # t-critical value for 95% CI\n",
    "    return ci"
   ]
  },
  {
   "cell_type": "code",
   "execution_count": 12,
   "metadata": {},
   "outputs": [
    {
     "name": "stdout",
     "output_type": "stream",
     "text": [
      "10x speed up - Correct predictions: 52/100\n",
      "4x speed up - Correct predictions: 48/100\n",
      "Normal speed - Correct predictions: 59/100\n",
      "95\\% Confidence: +- 9.86\n"
     ]
    },
    {
     "data": {
      "text/plain": [
       "(0.09913144712447916, 0.09913144712447916, 0.09759039812846866)"
      ]
     },
     "execution_count": 12,
     "metadata": {},
     "output_type": "execute_result"
    }
   ],
   "source": [
    "# check how many of 10x speed up videos are predicted correctly\n",
    "correct_10x_predictions = (pivoted_data['10x_speed'] == pivoted_data['true answer']).sum()\n",
    "total_10x_videos = pivoted_data['10x_speed'].count()\n",
    "\n",
    "# check how many of 4x speed up videos are predicted correctly\n",
    "correct_4x_predictions = (pivoted_data['4x_speed'] == pivoted_data['true answer']).sum()\n",
    "total_4x_videos = pivoted_data['4x_speed'].count()\n",
    "\n",
    "# check how many of normal speed videos are predicted correctly\n",
    "correct_normal_predictions = (pivoted_data['normal'] == pivoted_data['true answer']).sum()\n",
    "total_normal_videos = pivoted_data['normal'].count()\n",
    "\n",
    "print(\"10x speed up - Correct predictions: {}/{}\".format(correct_10x_predictions, total_10x_videos))\n",
    "print(\"4x speed up - Correct predictions: {}/{}\".format(correct_4x_predictions, total_4x_videos))\n",
    "print(\"Normal speed - Correct predictions: {}/{}\".format(correct_normal_predictions, total_normal_videos))\n",
    "\n",
    "# Calculating the confidence intervals\n",
    "ci_10x_speed = calculate_proportion_confidence_interval(correct_10x_predictions, total_10x_videos)\n",
    "ci_4x_speed = calculate_proportion_confidence_interval(correct_4x_predictions, total_4x_videos)\n",
    "ci_normal_speed = calculate_proportion_confidence_interval(correct_normal_predictions, total_normal_videos)\n",
    "\n",
    "print(f\"95\\% Confidence: +- {((ci_10x_speed + ci_4x_speed + ci_normal_speed)/3 * 100):.2f}\")\n",
    "\n",
    "(ci_10x_speed, ci_4x_speed, ci_normal_speed)"
   ]
  }
 ],
 "metadata": {
  "kernelspec": {
   "display_name": "temp",
   "language": "python",
   "name": "python3"
  },
  "language_info": {
   "codemirror_mode": {
    "name": "ipython",
    "version": 3
   },
   "file_extension": ".py",
   "mimetype": "text/x-python",
   "name": "python",
   "nbconvert_exporter": "python",
   "pygments_lexer": "ipython3",
   "version": "3.10.8"
  }
 },
 "nbformat": 4,
 "nbformat_minor": 2
}
